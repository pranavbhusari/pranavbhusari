{
 "cells": [
  {
   "cell_type": "code",
   "execution_count": null,
   "id": "247e7fa5-027e-4c64-b90b-64e8d849576c",
   "metadata": {},
   "outputs": [],
   "source": [
    "Declare two variables, `x` and `y`, and assign them integer values. Swap the\n",
    "values of these variables without using any temporary variable."
   ]
  },
  {
   "cell_type": "code",
   "execution_count": 4,
   "id": "21222563-0a26-4067-b790-066c1531994e",
   "metadata": {},
   "outputs": [
    {
     "name": "stdin",
     "output_type": "stream",
     "text": [
      "x= 3\n",
      "y= 2\n"
     ]
    },
    {
     "name": "stdout",
     "output_type": "stream",
     "text": [
      "after swapping x= 2\n",
      "after swapping y= 3\n"
     ]
    }
   ],
   "source": [
    "x=int(input(\"x=\"))\n",
    "y=int(input(\"y=\"))\n",
    "x,y=y,x\n",
    "print(\"after swapping x=\",x)\n",
    "print(\"after swapping y=\",y)"
   ]
  },
  {
   "cell_type": "code",
   "execution_count": null,
   "id": "8b44809f-e20a-4018-a3cb-355cea0c1ce0",
   "metadata": {},
   "outputs": [],
   "source": [
    "Create a program that calculates the area of a rectangle. Take the length and\n",
    "width as inputs from the user and store them in variables. Calculate and\n",
    "display the area."
   ]
  },
  {
   "cell_type": "code",
   "execution_count": 6,
   "id": "862b8635-64b6-4c1f-94b5-d244d89be6bb",
   "metadata": {},
   "outputs": [
    {
     "name": "stdin",
     "output_type": "stream",
     "text": [
      "Enter length 3\n",
      "Enter width 4\n"
     ]
    },
    {
     "name": "stdout",
     "output_type": "stream",
     "text": [
      "Area of rectangle is: 12.0\n"
     ]
    }
   ],
   "source": [
    "#Area of rectangle\n",
    "length=float(input(\"Enter length\"))\n",
    "width=float(input(\"Enter width\"))\n",
    "area_of_rectangle=length*width\n",
    "print(\"Area of rectangle is:\",area_of_rectangle)"
   ]
  },
  {
   "cell_type": "code",
   "execution_count": null,
   "id": "79c4ad49-4ac0-46d9-90bf-aefdc6328afa",
   "metadata": {},
   "outputs": [],
   "source": [
    "Write a Python program that converts temperatures from Celsius to\n",
    "Fahrenheit. Take the temperature in Celsius as input, store it in a variable,\n",
    "convert it to Fahrenheit, and display the result."
   ]
  },
  {
   "cell_type": "code",
   "execution_count": 8,
   "id": "c2824747-2666-4192-b32a-8e8e5021b082",
   "metadata": {},
   "outputs": [
    {
     "name": "stdin",
     "output_type": "stream",
     "text": [
      "Enter temperature in celsius: 33\n"
     ]
    },
    {
     "name": "stdout",
     "output_type": "stream",
     "text": [
      "Temperature in Fahrenheit: 91.4\n"
     ]
    }
   ],
   "source": [
    "#celsius to fahrenheit\n",
    "celsius=float(input(\"Enter temperature in celsius:\"))\n",
    "Fahrenheit=(celsius*9/5)+32\n",
    "print(\"Temperature in Fahrenheit:\",Fahrenheit)"
   ]
  },
  {
   "cell_type": "code",
   "execution_count": null,
   "id": "37644773-e7ff-4f1a-9361-afb423521850",
   "metadata": {},
   "outputs": [],
   "source": [
    "Write a Python program that takes a string as input and prints the length of\n",
    "the string."
   ]
  },
  {
   "cell_type": "code",
   "execution_count": 9,
   "id": "1304b0ca-073a-4d0b-9b8f-a471ff92cd5a",
   "metadata": {},
   "outputs": [
    {
     "name": "stdin",
     "output_type": "stream",
     "text": [
      "Enter a string: pranav\n"
     ]
    },
    {
     "name": "stdout",
     "output_type": "stream",
     "text": [
      "6\n"
     ]
    }
   ],
   "source": [
    "#length of string\n",
    "str=input(\"Enter a string:\")\n",
    "a=len(str)\n",
    "print(a)"
   ]
  },
  {
   "cell_type": "code",
   "execution_count": null,
   "id": "bcda2665-6966-4db8-951d-9754fd7045d6",
   "metadata": {},
   "outputs": [],
   "source": [
    "Create a program that takes a sentence from the user and counts the number\n",
    "of vowels (a, e, i, o, u) in the string."
   ]
  },
  {
   "cell_type": "code",
   "execution_count": 17,
   "id": "5db402c3-ae74-4917-ac60-ad3400f9bf6a",
   "metadata": {},
   "outputs": [
    {
     "name": "stdin",
     "output_type": "stream",
     "text": [
      "enter a sentence: I am Pranav Bhusari\n"
     ]
    },
    {
     "name": "stdout",
     "output_type": "stream",
     "text": [
      "Number of vowels: 7\n"
     ]
    }
   ],
   "source": [
    "#number of vowels in a string\n",
    "string=input(\"enter a sentence:\")\n",
    "vowels='aeiouAEIOU'\n",
    "a=0\n",
    "for char in string:\n",
    "    if char in vowels:\n",
    "        a+=1\n",
    "print(\"Number of vowels:\",a)"
   ]
  },
  {
   "cell_type": "code",
   "execution_count": null,
   "id": "2c8570b1-d0d2-496c-a673-a139cf8b6a09",
   "metadata": {},
   "outputs": [],
   "source": [
    "Given a string, reverse the order of characters using string slicing and print\n",
    "the reversed string."
   ]
  },
  {
   "cell_type": "code",
   "execution_count": 19,
   "id": "a9ea3884-32d1-451b-9a9a-0c7d7e852db7",
   "metadata": {},
   "outputs": [
    {
     "name": "stdout",
     "output_type": "stream",
     "text": [
      "Reversed string is: hbahsuR\n"
     ]
    }
   ],
   "source": [
    "# reverse a string\n",
    "str=\"Rushabh\"\n",
    "reversed_string=str[::-1]\n",
    "print(\"Reversed string is:\",reversed_string)"
   ]
  },
  {
   "cell_type": "code",
   "execution_count": null,
   "id": "cbaa24d6-824f-4385-922e-885b3df85643",
   "metadata": {},
   "outputs": [],
   "source": [
    "Write a program that takes a string as input and checks if it is a palindrome\n",
    "(reads the same forwards and backwards)."
   ]
  },
  {
   "cell_type": "code",
   "execution_count": 20,
   "id": "782ff0f7-3aa1-45cd-a7e9-817d9acae844",
   "metadata": {},
   "outputs": [
    {
     "name": "stdin",
     "output_type": "stream",
     "text": [
      "Enter a string dad\n"
     ]
    },
    {
     "name": "stdout",
     "output_type": "stream",
     "text": [
      "string is pallindrome\n"
     ]
    }
   ],
   "source": [
    "string=input(\"Enter a string\")\n",
    "reversed_string=string[::-1]\n",
    "if reversed_string==string:\n",
    "    print(\"string is pallindrome\")\n",
    "else:\n",
    "    print(\"string is not a pallindrome\")"
   ]
  },
  {
   "cell_type": "code",
   "execution_count": null,
   "id": "b48b9c7a-6d91-4d92-bf80-c2637aff62cc",
   "metadata": {},
   "outputs": [],
   "source": [
    "Create a program that takes a string as input and removes all the spaces from\n",
    "it. Print the modified string without spaces."
   ]
  },
  {
   "cell_type": "code",
   "execution_count": 24,
   "id": "6ceca21e-bdb1-47b1-96c1-1bb94c1a9c92",
   "metadata": {},
   "outputs": [
    {
     "name": "stdin",
     "output_type": "stream",
     "text": [
      "Enter a sentence I am Pranav Bhusari\n"
     ]
    },
    {
     "name": "stdout",
     "output_type": "stream",
     "text": [
      "IamPranavBhusari\n"
     ]
    }
   ],
   "source": [
    "string=input(\"Enter a sentence\")\n",
    "modified_string=string.replace(\" \",\"\")\n",
    "print(modified_string)"
   ]
  },
  {
   "cell_type": "code",
   "execution_count": null,
   "id": "3b80a331-035d-4ca2-b21c-82bebdb719f4",
   "metadata": {},
   "outputs": [],
   "source": []
  }
 ],
 "metadata": {
  "kernelspec": {
   "display_name": "Python 3 (ipykernel)",
   "language": "python",
   "name": "python3"
  },
  "language_info": {
   "codemirror_mode": {
    "name": "ipython",
    "version": 3
   },
   "file_extension": ".py",
   "mimetype": "text/x-python",
   "name": "python",
   "nbconvert_exporter": "python",
   "pygments_lexer": "ipython3",
   "version": "3.10.8"
  }
 },
 "nbformat": 4,
 "nbformat_minor": 5
}
